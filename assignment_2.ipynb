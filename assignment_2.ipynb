{
 "cells": [
  {
   "cell_type": "markdown",
   "id": "62e36ebe",
   "metadata": {},
   "source": [
    "Ans1:The two values of the Boolean datatype are True and False.\n",
    "     The result of a Boolean expression is either True or False. For example , the Boolean expression 100<1000 will always give      the result False and the result of Boolean expression 8<9 will be always True."
   ]
  },
  {
   "cell_type": "markdown",
   "id": "63504f39",
   "metadata": {},
   "source": [
    "Ans2: The three different types of Boolean operators are and,or and not.\n",
    "\n",
    "      \n",
    "       \n",
    "      \n",
    "       \n",
    "      \n",
    "       \n",
    "       "
   ]
  },
  {
   "cell_type": "markdown",
   "id": "07865237",
   "metadata": {},
   "source": [
    "        \n",
    "Ans3:     \n",
    "                 \n",
    "            True and True= True;\n",
    "            True and False= False;\n",
    "            False and True= False;\n",
    "            False and False=False;\n",
    "                   \n",
    "            True or True=True;\n",
    "            False or True= True;\n",
    "            True or False=True;\n",
    "            False or False=False;\n",
    "                   \n",
    "            not True= False;\n",
    "            not False=True"
   ]
  },
  {
   "cell_type": "markdown",
   "id": "44629eaa",
   "metadata": {},
   "source": [
    "Ans 4:\n",
    "False\n",
    "False\n",
    "True\n",
    "False\n",
    "False \n",
    "True\n"
   ]
  },
  {
   "cell_type": "markdown",
   "id": "6c28a66b",
   "metadata": {},
   "source": [
    "Ans 5: The six comparison operators are as follows:\n",
    "        1. Less than(<)\n",
    "        2.Greater than(>)\n",
    "        3.Less than or equal to(<=)\n",
    "        4.Greater than or equal to(>=)\n",
    "        5.Equal to(==)\n",
    "        6.Not equal (!=)"
   ]
  },
  {
   "cell_type": "markdown",
   "id": "d7569298",
   "metadata": {},
   "source": [
    "Ans 6:\"=\" operator is used to assign a value to a variable  \"==\" operator compares whether two operands are equal or not. Example : to assign the value 10 to a variable a , I would use \"=\" operator ,a=10.\n",
    "\n",
    "In order to check ,if an element is integer, I would use the following statement\n",
    "\n",
    "if type(i)==int \n",
    "The outcome can be either True or False."
   ]
  },
  {
   "cell_type": "code",
   "execution_count": 33,
   "id": "703fc040",
   "metadata": {},
   "outputs": [
    {
     "name": "stdout",
     "output_type": "stream",
     "text": [
      "ham\n",
      "spam\n",
      "spam\n"
     ]
    }
   ],
   "source": [
    "\n",
    "#Ans 7\n",
    "spam = 0\n",
    "if spam == 10:\n",
    "    print('eggs')\n",
    "if spam > 5:\n",
    "    print('bacon')\n",
    "else:\n",
    "    print(\"ham\")\n",
    "    print(\"spam\")\n",
    "    print(\"spam\")"
   ]
  },
  {
   "cell_type": "markdown",
   "id": "4ec0d92a",
   "metadata": {},
   "source": [
    "#Ans8\n",
    "if spam==1:\n",
    "    print(\"Hello\")\n",
    "if spam==2:\n",
    "    print(\"Howdy\")\n",
    "else:\n",
    "    print(\"Greetings!\")"
   ]
  },
  {
   "cell_type": "markdown",
   "id": "bbb5276d",
   "metadata": {},
   "source": [
    "Ans 9:We need to press CTRL+C  to stop a program which is stuck in an infinite loop."
   ]
  },
  {
   "cell_type": "markdown",
   "id": "3658b787",
   "metadata": {},
   "source": [
    "Ans 10: The break statement terminates the current loop and continues execution at the next statement. \n",
    "The continue statement is used to skip a current iteration in a loop and resumes to the next iteration."
   ]
  },
  {
   "cell_type": "markdown",
   "id": "6e458436",
   "metadata": {},
   "source": [
    "Ans 11: There is no difference. All three of them do the same thing.\n",
    "range(10) returns a sequence of numbers starting from 0, incrementing by 1 by default and stops at 9.\n",
    "range(0,10) also returns the same sequence ie (0-9).\n",
    "range(0,10,1) also returns (0-9), only difference is that it explicitly mentioned the increment by 1."
   ]
  },
  {
   "cell_type": "code",
   "execution_count": 43,
   "id": "6d8a8505",
   "metadata": {},
   "outputs": [
    {
     "name": "stdout",
     "output_type": "stream",
     "text": [
      "1\n",
      "2\n",
      "3\n",
      "4\n",
      "5\n",
      "6\n",
      "7\n",
      "8\n",
      "9\n",
      "10\n"
     ]
    }
   ],
   "source": [
    "#Ans 12:\n",
    "for i in range(1,11):\n",
    "    print(i)"
   ]
  },
  {
   "cell_type": "code",
   "execution_count": null,
   "id": "2ec98cfd",
   "metadata": {},
   "outputs": [],
   "source": [
    "#Ans12\n",
    "i=1\n",
    "while i<11:\n",
    "    print(i)\n",
    "    i=i+1"
   ]
  },
  {
   "cell_type": "markdown",
   "id": "ff0c7ae0",
   "metadata": {},
   "source": [
    "Ans 13:spam.bacon()"
   ]
  }
 ],
 "metadata": {
  "kernelspec": {
   "display_name": "Python 3 (ipykernel)",
   "language": "python",
   "name": "python3"
  },
  "language_info": {
   "codemirror_mode": {
    "name": "ipython",
    "version": 3
   },
   "file_extension": ".py",
   "mimetype": "text/x-python",
   "name": "python",
   "nbconvert_exporter": "python",
   "pygments_lexer": "ipython3",
   "version": "3.9.7"
  }
 },
 "nbformat": 4,
 "nbformat_minor": 5
}
